{
 "cells": [
  {
   "cell_type": "code",
   "execution_count": 1,
   "id": "dd401f26-a6b3-4609-84f4-0c81fd0e5091",
   "metadata": {},
   "outputs": [],
   "source": [
    "#q-1\n",
    "# stastics is a science of collecting,orgnizing,analysis of data.."
   ]
  },
  {
   "cell_type": "code",
   "execution_count": 3,
   "id": "262f4d9a-d202-4d46-855f-d8bed04edb14",
   "metadata": {},
   "outputs": [],
   "source": [
    "#q-2\n",
    "# basically two types of stastics\n",
    " 1.discraptive stastics\n",
    "# it consists of organizing and summarizing the data\n",
    "#mesure of central trendency\n",
    "#mesure of disportion\n",
    "#different type of distribution data\n",
    "#eg.histogram \n",
    "2 Inferential statistics.\n",
    "# it consists of using data you have a mesured to from a conclusion\n",
    "#eg.z-test,t-test\n"
   ]
  },
  {
   "cell_type": "code",
   "execution_count": null,
   "id": "9bd380f0-c68f-470e-baa4-3031653010c7",
   "metadata": {},
   "outputs": [],
   "source": [
    "#q-3\n",
    "# basicaly two types of data\n",
    "1.numarical data(Quantitative data)\n",
    "#Can be quantified and is measurable.\n",
    "#The data is expressed as numbers and values.\n",
    "#The data is statistical and structured.\n",
    "#two types--discrete and continuous\n",
    "2.categorical(Qualitative data)\n",
    "#Can’t be measured.\n",
    "#Can’t be measured.\n",
    "#The data describes qualities or characteristics.\n",
    "#two types--nominal and ordinal"
   ]
  },
  {
   "cell_type": "code",
   "execution_count": null,
   "id": "5eb78a41-84fe-4048-b2b3-53c169c1b63e",
   "metadata": {},
   "outputs": [],
   "source": [
    "#q-4\n",
    "(i) Grading in exam: A+, A, B+, B, C+, C, D, E\n",
    "This dataset can be categorized as qualitative data\n",
    "2.Colour of mangoes: yellow, green, orange, red\n",
    "This dataset can also be categorized as qualitative data \n",
    "(iii) Height data of a class: [178.9, 179, 179.5, 176, 177.2, 178.3, 175.8,...]\n",
    "This dataset can be categorized as quantitative data \n",
    "(iv) Number of mangoes exported by a farm: [500, 600, 478, 672, ...\n",
    "This dataset can also be categorized as quantitative data"
   ]
  },
  {
   "cell_type": "code",
   "execution_count": null,
   "id": "ac5e2a5e-9b0f-45d2-997b-ea782abf0df3",
   "metadata": {},
   "outputs": [],
   "source": [
    "#q-5\n",
    "1.Nominal level: Variables at the nominal level are categorical and have no inherent order or numerical meaning. They represent different categories or groups. Examples include:\n",
    "\n",
    "Eye color (blue, brown, green)\n",
    "Gender (male, female)\n",
    "Blood type (A, B, AB, O) \n",
    "\n",
    "2.Ordinal level: Variables at the ordinal level have categories that can be ordered or ranked, but the differences between the categories may not be equal or measurable. Examples include:\n",
    "\n",
    "Educational attainment level (high school, bachelor's degree, master's degree, Ph.D.)\n",
    "Survey ratings (strongly agree, agree, neutral, disagree, strongly disagree)\n",
    "Likert scale responses (1 = strongly disagree, 2 = disagree, 3 = neutral, 4 = agree, 5 = strongly agre\n",
    "\n",
    "                        3.Interval level: Variables at the interval level have ordered categories with equal intervals between them. They do not have a meaningful zero point. Examples include:\n",
    "\n",
    "Temperature in Celsius or Fahrenheit (0°C, 10°C, 20°C, ...)\n",
    "Calendar years (1990, 2000, 2010, ...)\n",
    "IQ scores (100, 110, 120, ...)\n",
    "\n",
    "                        4.Ratio level: Variables at the ratio level have ordered categories with equal intervals and a meaningful zero point. They allow for comparisons of magnitude and the interpretation of ratios. Examples include:\n",
    "\n",
    "Height (measured in centimeters or inches)\n",
    "Weight (measured in kilograms or pounds)\n",
    "Income (measured in dollars                        "
   ]
  },
  {
   "cell_type": "code",
   "execution_count": null,
   "id": "0cd9547a-6d5e-469b-8dd3-73a34470515e",
   "metadata": {},
   "outputs": [],
   "source": [
    "#q-6\n",
    "#Understanding the level of measurement is important when analyzing data because it determines the types of statistical analyses and interpretations that can be made. Applying inappropriate statistical methods based on an incorrect understanding of the level of measurement can lead to erroneous results and misinterpretations.\n",
    "#For example, let's consider a scenario where we have data on customer satisfaction with a product on a Likert scale ranging from 1 to 5 (1 = Very Dissatisfied, 5 = Very Satisfied). If we treat this data as interval or ratio level when it is actually ordinal, we may erroneously calculate the mean of the satisfaction ratings and interpret it as a meaningful average level of satisfaction. However, since the Likert scale data is ordinal, it only indicates the relative rankings of satisfaction levels and not the precise differences between them. Therefore, calculating the mean in this case would be inappropriate.\n",
    "#By recognizing the correct level of measurement (ordinal), we can use appropriate statistical techniques such as calculating the mode or median, which better represent the central tendency of the data. This understanding allows for more accurate analysis and interpretation, avoiding potential misunderstandings or misleading conclusions.\n",
    "#In summary, understanding the level of measurement ensures that appropriate statistical methods are applied, leading to accurate analyses and meaningful interpretations of the data.\n"
   ]
  },
  {
   "cell_type": "code",
   "execution_count": null,
   "id": "2beb1095-5390-491a-89a4-da9147927a24",
   "metadata": {},
   "outputs": [],
   "source": [
    "#q-7\n",
    "1.Nominal Data:\n",
    "\n",
    "Nominal data is the lowest level of measurement.\n",
    "It consists of categories or labels that cannot be ranked or ordered.\n",
    "Each category is distinct and there is no inherent order or hierarchy.\n",
    "Examples of nominal data include eye color, gender, blood type, or categories assigned to objects or individuals.\n",
    "In nominal data, you can determine whether two categories are the same or different, but you cannot say anything about their relative positions or magnitudes.\n",
    "\n",
    "2.Ordinal Data:\n",
    "\n",
    "Ordinal data is the second level of measurement and has more information than nominal data.\n",
    "It consists of categories or labels that can be ranked or ordered.\n",
    "The categories have a meaningful order or hierarchy.\n",
    "However, the differences between the categories are not necessarily equal or measurable.\n",
    "Examples of ordinal data include rankings (1st, 2nd, 3rd), Likert scale responses (strongly agree, agree, neutral, disagree, strongly disagree), or ratings (excellent, good, fair, poor).\n",
    "In ordinal data, you can determine the order of categories and make statements such as one category being greater or lesser than another, but you cannot determine the magnitude of the differences between the categories."
   ]
  },
  {
   "cell_type": "code",
   "execution_count": null,
   "id": "ad7ae140-9ad1-4bb4-a766-3b31cff43492",
   "metadata": {},
   "outputs": [],
   "source": [
    "#q-8\n",
    "The most common type of range plot is the box plot."
   ]
  },
  {
   "cell_type": "code",
   "execution_count": null,
   "id": "cd2eda2c-a80e-42fa-8cc9-4b9569fbd9c9",
   "metadata": {},
   "outputs": [],
   "source": [
    "#q-9\n",
    "1.discraptive stastics\n",
    "# it consists of organizing and summarizing the data\n",
    "#mesure of central trendency\n",
    "#mesure of disportion\n",
    "#different type of distribution data\n",
    "#eg.histogram \n",
    "2 Inferential statistics.\n",
    "# it consists of using data you have a mesured to from a conclusion\n",
    "#eg.z-test,t-test\n"
   ]
  },
  {
   "cell_type": "code",
   "execution_count": null,
   "id": "86d95d47-17f1-4661-8e9b-a71d2c3a7664",
   "metadata": {},
   "outputs": [],
   "source": [
    "#q-10\n",
    "1.Mean: The mean is the arithmetic average of a dataset. It is calculated by summing up all the values in the dataset and dividing by the total number of values. The mean provides a measure of the \"typical\" or \"average\" value in the dataset.\n",
    "2.Median: The median is the middle value of a dataset when the values are arranged in ascending or descending order. If the dataset has an even number of values, the median is the average of the two middle values. The median is useful when the dataset contains outliers or extreme values that could affect the mean.\n",
    "3.Mode: The mode is the value or values that occur most frequently in a dataset. It represents the most common observation or category in the dataset. The mode is particularly useful for categorical or nominal data.\n",
    "\n",
    "Measures of Variability:\n",
    "\n",
    "1.Range: The range is the difference between the maximum and minimum values in a dataset. It provides a simple measure of the spread or variability of the dataset. However, it does not consider the distribution of values between the minimum and maximum.\n",
    "\n",
    "2.Standard Deviation: The standard deviation measures the average amount by which values in a dataset deviate from the mean. It provides a measure of the spread or dispersion of the dataset. A higher standard deviation indicates greater variability, while a lower standard deviation suggests less variability.\n",
    "\n",
    "3.Variance: The variance is the average of the squared differences between each value and the mean of the dataset. It provides a measure of the average squared deviation from the mean. The variance is closely related to the standard deviation, as the standard deviation is the square root of the variance.\n"
   ]
  }
 ],
 "metadata": {
  "kernelspec": {
   "display_name": "Python 3 (ipykernel)",
   "language": "python",
   "name": "python3"
  },
  "language_info": {
   "codemirror_mode": {
    "name": "ipython",
    "version": 3
   },
   "file_extension": ".py",
   "mimetype": "text/x-python",
   "name": "python",
   "nbconvert_exporter": "python",
   "pygments_lexer": "ipython3",
   "version": "3.10.8"
  }
 },
 "nbformat": 4,
 "nbformat_minor": 5
}
